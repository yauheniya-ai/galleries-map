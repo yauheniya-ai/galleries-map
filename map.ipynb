{
 "cells": [
  {
   "cell_type": "code",
   "execution_count": 22,
   "id": "d4066655",
   "metadata": {},
   "outputs": [],
   "source": [
    "import pandas as pd\n",
    "import plotly.express as px\n",
    "from geopy.geocoders import Nominatim\n",
    "import time"
   ]
  },
  {
   "cell_type": "markdown",
   "id": "474beddf",
   "metadata": {},
   "source": [
    "## Find latitudes and longitudes for each address"
   ]
  },
  {
   "cell_type": "code",
   "execution_count": 23,
   "id": "ebab0e25",
   "metadata": {},
   "outputs": [
    {
     "name": "stderr",
     "output_type": "stream",
     "text": [
      "WARNING\tTask(Task-2) urllib3.connectionpool:connectionpool.py:urlopen()- Retrying (Retry(total=1, connect=None, read=None, redirect=None, status=None)) after connection broken by 'ReadTimeoutError(\"HTTPSConnectionPool(host='nominatim.openstreetmap.org', port=443): Read timed out. (read timeout=1)\")': /search?q=555+W+24th+St%2C+New+York%2C+NY+10011&format=json&limit=1\n",
      "WARNING\tTask(Task-2) urllib3.connectionpool:connectionpool.py:urlopen()- Retrying (Retry(total=0, connect=None, read=None, redirect=None, status=None)) after connection broken by 'ReadTimeoutError(\"HTTPSConnectionPool(host='nominatim.openstreetmap.org', port=443): Read timed out. (read timeout=1)\")': /search?q=555+W+24th+St%2C+New+York%2C+NY+10011&format=json&limit=1\n",
      "WARNING\tTask(Task-2) urllib3.connectionpool:connectionpool.py:urlopen()- Retrying (Retry(total=1, connect=None, read=None, redirect=None, status=None)) after connection broken by 'ReadTimeoutError(\"HTTPSConnectionPool(host='nominatim.openstreetmap.org', port=443): Read timed out. (read timeout=1)\")': /search?q=525+W+19th+St%2C+New+York%2C+NY+10011&format=json&limit=1\n",
      "WARNING\tTask(Task-2) urllib3.connectionpool:connectionpool.py:urlopen()- Retrying (Retry(total=0, connect=None, read=None, redirect=None, status=None)) after connection broken by 'ReadTimeoutError(\"HTTPSConnectionPool(host='nominatim.openstreetmap.org', port=443): Read timed out. (read timeout=1)\")': /search?q=525+W+19th+St%2C+New+York%2C+NY+10011&format=json&limit=1\n",
      "WARNING\tTask(Task-2) urllib3.connectionpool:connectionpool.py:urlopen()- Retrying (Retry(total=1, connect=None, read=None, redirect=None, status=None)) after connection broken by 'ReadTimeoutError(\"HTTPSConnectionPool(host='nominatim.openstreetmap.org', port=443): Read timed out. (read timeout=1)\")': /search?q=540+W+25th+St%2C+New+York%2C+NY+10001&format=json&limit=1\n",
      "WARNING\tTask(Task-2) urllib3.connectionpool:connectionpool.py:urlopen()- Retrying (Retry(total=0, connect=None, read=None, redirect=None, status=None)) after connection broken by 'ReadTimeoutError(\"HTTPSConnectionPool(host='nominatim.openstreetmap.org', port=443): Read timed out. (read timeout=1)\")': /search?q=540+W+25th+St%2C+New+York%2C+NY+10001&format=json&limit=1\n",
      "WARNING\tTask(Task-2) urllib3.connectionpool:connectionpool.py:urlopen()- Retrying (Retry(total=1, connect=None, read=None, redirect=None, status=None)) after connection broken by 'ReadTimeoutError(\"HTTPSConnectionPool(host='nominatim.openstreetmap.org', port=443): Read timed out. (read timeout=1)\")': /search?q=515+W+24th+St%2C+New+York%2C+NY+10011&format=json&limit=1\n",
      "WARNING\tTask(Task-2) urllib3.connectionpool:connectionpool.py:urlopen()- Retrying (Retry(total=0, connect=None, read=None, redirect=None, status=None)) after connection broken by 'ReadTimeoutError(\"HTTPSConnectionPool(host='nominatim.openstreetmap.org', port=443): Read timed out. (read timeout=1)\")': /search?q=515+W+24th+St%2C+New+York%2C+NY+10011&format=json&limit=1\n",
      "WARNING\tTask(Task-2) urllib3.connectionpool:connectionpool.py:urlopen()- Retrying (Retry(total=1, connect=None, read=None, redirect=None, status=None)) after connection broken by 'ReadTimeoutError(\"HTTPSConnectionPool(host='nominatim.openstreetmap.org', port=443): Read timed out. (read timeout=1)\")': /search?q=548+W+22nd+St%2C+New+York%2C+NY+10011&format=json&limit=1\n",
      "WARNING\tTask(Task-2) urllib3.connectionpool:connectionpool.py:urlopen()- Retrying (Retry(total=0, connect=None, read=None, redirect=None, status=None)) after connection broken by 'ReadTimeoutError(\"HTTPSConnectionPool(host='nominatim.openstreetmap.org', port=443): Read timed out. (read timeout=1)\")': /search?q=548+W+22nd+St%2C+New+York%2C+NY+10011&format=json&limit=1\n",
      "WARNING\tTask(Task-2) urllib3.connectionpool:connectionpool.py:urlopen()- Retrying (Retry(total=1, connect=None, read=None, redirect=None, status=None)) after connection broken by 'ReadTimeoutError(\"HTTPSConnectionPool(host='nominatim.openstreetmap.org', port=443): Read timed out. (read timeout=1)\")': /search?q=24+W+57th+St%2C+New+York%2C+NY+10019&format=json&limit=1\n",
      "WARNING\tTask(Task-2) urllib3.connectionpool:connectionpool.py:urlopen()- Retrying (Retry(total=0, connect=None, read=None, redirect=None, status=None)) after connection broken by 'ReadTimeoutError(\"HTTPSConnectionPool(host='nominatim.openstreetmap.org', port=443): Read timed out. (read timeout=1)\")': /search?q=24+W+57th+St%2C+New+York%2C+NY+10019&format=json&limit=1\n",
      "WARNING\tTask(Task-2) urllib3.connectionpool:connectionpool.py:urlopen()- Retrying (Retry(total=1, connect=None, read=None, redirect=None, status=None)) after connection broken by 'ReadTimeoutError(\"HTTPSConnectionPool(host='nominatim.openstreetmap.org', port=443): Read timed out. (read timeout=1)\")': /search?q=523+W+24th+St%2C+New+York%2C+NY+10011&format=json&limit=1\n",
      "WARNING\tTask(Task-2) urllib3.connectionpool:connectionpool.py:urlopen()- Retrying (Retry(total=0, connect=None, read=None, redirect=None, status=None)) after connection broken by 'ReadTimeoutError(\"HTTPSConnectionPool(host='nominatim.openstreetmap.org', port=443): Read timed out. (read timeout=1)\")': /search?q=523+W+24th+St%2C+New+York%2C+NY+10011&format=json&limit=1\n",
      "WARNING\tTask(Task-2) urllib3.connectionpool:connectionpool.py:urlopen()- Retrying (Retry(total=1, connect=None, read=None, redirect=None, status=None)) after connection broken by 'ReadTimeoutError(\"HTTPSConnectionPool(host='nominatim.openstreetmap.org', port=443): Read timed out. (read timeout=1)\")': /search?q=513+W+20th+St%2C+New+York%2C+NY+10011&format=json&limit=1\n",
      "WARNING\tTask(Task-2) urllib3.connectionpool:connectionpool.py:urlopen()- Retrying (Retry(total=0, connect=None, read=None, redirect=None, status=None)) after connection broken by 'ReadTimeoutError(\"HTTPSConnectionPool(host='nominatim.openstreetmap.org', port=443): Read timed out. (read timeout=1)\")': /search?q=513+W+20th+St%2C+New+York%2C+NY+10011&format=json&limit=1\n",
      "WARNING\tTask(Task-2) urllib3.connectionpool:connectionpool.py:urlopen()- Retrying (Retry(total=1, connect=None, read=None, redirect=None, status=None)) after connection broken by 'ReadTimeoutError(\"HTTPSConnectionPool(host='nominatim.openstreetmap.org', port=443): Read timed out. (read timeout=1)\")': /search?q=475+10th+Ave%2C+New+York%2C+NY+10018&format=json&limit=1\n",
      "WARNING\tTask(Task-2) urllib3.connectionpool:connectionpool.py:urlopen()- Retrying (Retry(total=1, connect=None, read=None, redirect=None, status=None)) after connection broken by 'ReadTimeoutError(\"HTTPSConnectionPool(host='nominatim.openstreetmap.org', port=443): Read timed out. (read timeout=1)\")': /search?q=501+W+24th+St%2C+New+York%2C+NY+10011&format=json&limit=1\n",
      "WARNING\tTask(Task-2) urllib3.connectionpool:connectionpool.py:urlopen()- Retrying (Retry(total=0, connect=None, read=None, redirect=None, status=None)) after connection broken by 'ReadTimeoutError(\"HTTPSConnectionPool(host='nominatim.openstreetmap.org', port=443): Read timed out. (read timeout=1)\")': /search?q=501+W+24th+St%2C+New+York%2C+NY+10011&format=json&limit=1\n",
      "WARNING\tTask(Task-2) urllib3.connectionpool:connectionpool.py:urlopen()- Retrying (Retry(total=1, connect=None, read=None, redirect=None, status=None)) after connection broken by 'ReadTimeoutError(\"HTTPSConnectionPool(host='nominatim.openstreetmap.org', port=443): Read timed out. (read timeout=1)\")': /search?q=456+W+18th+St%2C+New+York%2C+NY+10011&format=json&limit=1\n",
      "WARNING\tTask(Task-2) urllib3.connectionpool:connectionpool.py:urlopen()- Retrying (Retry(total=0, connect=None, read=None, redirect=None, status=None)) after connection broken by 'ReadTimeoutError(\"HTTPSConnectionPool(host='nominatim.openstreetmap.org', port=443): Read timed out. (read timeout=1)\")': /search?q=456+W+18th+St%2C+New+York%2C+NY+10011&format=json&limit=1\n",
      "WARNING\tTask(Task-2) urllib3.connectionpool:connectionpool.py:urlopen()- Retrying (Retry(total=1, connect=None, read=None, redirect=None, status=None)) after connection broken by 'ReadTimeoutError(\"HTTPSConnectionPool(host='nominatim.openstreetmap.org', port=443): Read timed out. (read timeout=1)\")': /search?q=521+W+21st+St%2C+New+York%2C+NY+10011&format=json&limit=1\n",
      "WARNING\tTask(Task-2) urllib3.connectionpool:connectionpool.py:urlopen()- Retrying (Retry(total=0, connect=None, read=None, redirect=None, status=None)) after connection broken by 'ReadTimeoutError(\"HTTPSConnectionPool(host='nominatim.openstreetmap.org', port=443): Read timed out. (read timeout=1)\")': /search?q=521+W+21st+St%2C+New+York%2C+NY+10011&format=json&limit=1\n",
      "WARNING\tTask(Task-2) urllib3.connectionpool:connectionpool.py:urlopen()- Retrying (Retry(total=1, connect=None, read=None, redirect=None, status=None)) after connection broken by 'ReadTimeoutError(\"HTTPSConnectionPool(host='nominatim.openstreetmap.org', port=443): Read timed out. (read timeout=1)\")': /search?q=534+W+21st+St%2C+New+York%2C+NY+10011&format=json&limit=1\n",
      "WARNING\tTask(Task-2) urllib3.connectionpool:connectionpool.py:urlopen()- Retrying (Retry(total=0, connect=None, read=None, redirect=None, status=None)) after connection broken by 'ReadTimeoutError(\"HTTPSConnectionPool(host='nominatim.openstreetmap.org', port=443): Read timed out. (read timeout=1)\")': /search?q=534+W+21st+St%2C+New+York%2C+NY+10011&format=json&limit=1\n",
      "WARNING\tTask(Task-2) urllib3.connectionpool:connectionpool.py:urlopen()- Retrying (Retry(total=1, connect=None, read=None, redirect=None, status=None)) after connection broken by 'ReadTimeoutError(\"HTTPSConnectionPool(host='nominatim.openstreetmap.org', port=443): Read timed out. (read timeout=1)\")': /search?q=555+W+21st+St%2C+New+York%2C+NY+10011&format=json&limit=1\n",
      "WARNING\tTask(Task-2) urllib3.connectionpool:connectionpool.py:urlopen()- Retrying (Retry(total=0, connect=None, read=None, redirect=None, status=None)) after connection broken by 'ReadTimeoutError(\"HTTPSConnectionPool(host='nominatim.openstreetmap.org', port=443): Read timed out. (read timeout=1)\")': /search?q=555+W+21st+St%2C+New+York%2C+NY+10011&format=json&limit=1\n",
      "WARNING\tTask(Task-2) urllib3.connectionpool:connectionpool.py:urlopen()- Retrying (Retry(total=1, connect=None, read=None, redirect=None, status=None)) after connection broken by 'ReadTimeoutError(\"HTTPSConnectionPool(host='nominatim.openstreetmap.org', port=443): Read timed out. (read timeout=1)\")': /search?q=39+Walker+St%2C+New+York%2C+NY+10013&format=json&limit=1\n",
      "WARNING\tTask(Task-2) urllib3.connectionpool:connectionpool.py:urlopen()- Retrying (Retry(total=1, connect=None, read=None, redirect=None, status=None)) after connection broken by 'ReadTimeoutError(\"HTTPSConnectionPool(host='nominatim.openstreetmap.org', port=443): Read timed out. (read timeout=1)\")': /search?q=530+W+22nd+St%2C+New+York%2C+NY+10011&format=json&limit=1\n",
      "WARNING\tTask(Task-2) urllib3.connectionpool:connectionpool.py:urlopen()- Retrying (Retry(total=1, connect=None, read=None, redirect=None, status=None)) after connection broken by 'ReadTimeoutError(\"HTTPSConnectionPool(host='nominatim.openstreetmap.org', port=443): Read timed out. (read timeout=1)\")': /search?q=509+W+27th+St%2C+New+York%2C+NY+10001&format=json&limit=1\n",
      "WARNING\tTask(Task-2) urllib3.connectionpool:connectionpool.py:urlopen()- Retrying (Retry(total=1, connect=None, read=None, redirect=None, status=None)) after connection broken by 'ReadTimeoutError(\"HTTPSConnectionPool(host='nominatim.openstreetmap.org', port=443): Read timed out. (read timeout=1)\")': /search?q=16+E+55th+St%2C+New+York%2C+NY+10022&format=json&limit=1\n",
      "WARNING\tTask(Task-2) urllib3.connectionpool:connectionpool.py:urlopen()- Retrying (Retry(total=1, connect=None, read=None, redirect=None, status=None)) after connection broken by 'ReadTimeoutError(\"HTTPSConnectionPool(host='nominatim.openstreetmap.org', port=443): Read timed out. (read timeout=1)\")': /search?q=510+W+26th+St%2C+New+York%2C+NY+10001&format=json&limit=1\n",
      "WARNING\tTask(Task-2) urllib3.connectionpool:connectionpool.py:urlopen()- Retrying (Retry(total=1, connect=None, read=None, redirect=None, status=None)) after connection broken by 'ReadTimeoutError(\"HTTPSConnectionPool(host='nominatim.openstreetmap.org', port=443): Read timed out. (read timeout=1)\")': /search?q=528+W+26th+St%2C+New+York%2C+NY+10001&format=json&limit=1\n",
      "WARNING\tTask(Task-2) urllib3.connectionpool:connectionpool.py:urlopen()- Retrying (Retry(total=0, connect=None, read=None, redirect=None, status=None)) after connection broken by 'ReadTimeoutError(\"HTTPSConnectionPool(host='nominatim.openstreetmap.org', port=443): Read timed out. (read timeout=1)\")': /search?q=528+W+26th+St%2C+New+York%2C+NY+10001&format=json&limit=1\n",
      "WARNING\tTask(Task-2) urllib3.connectionpool:connectionpool.py:urlopen()- Retrying (Retry(total=1, connect=None, read=None, redirect=None, status=None)) after connection broken by 'ReadTimeoutError(\"HTTPSConnectionPool(host='nominatim.openstreetmap.org', port=443): Read timed out. (read timeout=1)\")': /search?q=23+E+67th+St%2C+New+York%2C+NY+10065&format=json&limit=1\n",
      "WARNING\tTask(Task-2) urllib3.connectionpool:connectionpool.py:urlopen()- Retrying (Retry(total=0, connect=None, read=None, redirect=None, status=None)) after connection broken by 'ReadTimeoutError(\"HTTPSConnectionPool(host='nominatim.openstreetmap.org', port=443): Read timed out. (read timeout=1)\")': /search?q=23+E+67th+St%2C+New+York%2C+NY+10065&format=json&limit=1\n",
      "WARNING\tTask(Task-2) urllib3.connectionpool:connectionpool.py:urlopen()- Retrying (Retry(total=1, connect=None, read=None, redirect=None, status=None)) after connection broken by 'ReadTimeoutError(\"HTTPSConnectionPool(host='nominatim.openstreetmap.org', port=443): Read timed out. (read timeout=1)\")': /search?q=508+W+26th+St%2C+New+York%2C+NY+10001&format=json&limit=1\n",
      "WARNING\tTask(Task-2) urllib3.connectionpool:connectionpool.py:urlopen()- Retrying (Retry(total=1, connect=None, read=None, redirect=None, status=None)) after connection broken by 'ReadTimeoutError(\"HTTPSConnectionPool(host='nominatim.openstreetmap.org', port=443): Read timed out. (read timeout=1)\")': /search?q=121+W+27th+St%2C+New+York%2C+NY+10001&format=json&limit=1\n",
      "WARNING\tTask(Task-2) urllib3.connectionpool:connectionpool.py:urlopen()- Retrying (Retry(total=0, connect=None, read=None, redirect=None, status=None)) after connection broken by 'ReadTimeoutError(\"HTTPSConnectionPool(host='nominatim.openstreetmap.org', port=443): Read timed out. (read timeout=1)\")': /search?q=121+W+27th+St%2C+New+York%2C+NY+10001&format=json&limit=1\n",
      "WARNING\tTask(Task-2) urllib3.connectionpool:connectionpool.py:urlopen()- Retrying (Retry(total=1, connect=None, read=None, redirect=None, status=None)) after connection broken by 'ReadTimeoutError(\"HTTPSConnectionPool(host='nominatim.openstreetmap.org', port=443): Read timed out. (read timeout=1)\")': /search?q=188+E+2nd+St%2C+New+York%2C+NY+10009&format=json&limit=1\n",
      "WARNING\tTask(Task-2) urllib3.connectionpool:connectionpool.py:urlopen()- Retrying (Retry(total=0, connect=None, read=None, redirect=None, status=None)) after connection broken by 'ReadTimeoutError(\"HTTPSConnectionPool(host='nominatim.openstreetmap.org', port=443): Read timed out. (read timeout=1)\")': /search?q=188+E+2nd+St%2C+New+York%2C+NY+10009&format=json&limit=1\n",
      "WARNING\tTask(Task-2) urllib3.connectionpool:connectionpool.py:urlopen()- Retrying (Retry(total=1, connect=None, read=None, redirect=None, status=None)) after connection broken by 'ReadTimeoutError(\"HTTPSConnectionPool(host='nominatim.openstreetmap.org', port=443): Read timed out. (read timeout=1)\")': /search?q=392+Broadway%2C+New+York%2C+NY+10013&format=json&limit=1\n",
      "WARNING\tTask(Task-2) urllib3.connectionpool:connectionpool.py:urlopen()- Retrying (Retry(total=1, connect=None, read=None, redirect=None, status=None)) after connection broken by 'ReadTimeoutError(\"HTTPSConnectionPool(host='nominatim.openstreetmap.org', port=443): Read timed out. (read timeout=1)\")': /search?q=24+E+81st+St%2C+New+York%2C+NY+10028&format=json&limit=1\n",
      "WARNING\tTask(Task-2) urllib3.connectionpool:connectionpool.py:urlopen()- Retrying (Retry(total=1, connect=None, read=None, redirect=None, status=None)) after connection broken by 'ReadTimeoutError(\"HTTPSConnectionPool(host='nominatim.openstreetmap.org', port=443): Read timed out. (read timeout=1)\")': /search?q=9+N+Moore+St%2C+New+York%2C+NY+10013&format=json&limit=1\n",
      "WARNING\tTask(Task-2) urllib3.connectionpool:connectionpool.py:urlopen()- Retrying (Retry(total=0, connect=None, read=None, redirect=None, status=None)) after connection broken by 'ReadTimeoutError(\"HTTPSConnectionPool(host='nominatim.openstreetmap.org', port=443): Read timed out. (read timeout=1)\")': /search?q=9+N+Moore+St%2C+New+York%2C+NY+10013&format=json&limit=1\n",
      "WARNING\tTask(Task-2) urllib3.connectionpool:connectionpool.py:urlopen()- Retrying (Retry(total=1, connect=None, read=None, redirect=None, status=None)) after connection broken by 'ReadTimeoutError(\"HTTPSConnectionPool(host='nominatim.openstreetmap.org', port=443): Read timed out. (read timeout=1)\")': /search?q=21+Catherine+St%2C+New+York%2C+NY+10038&format=json&limit=1\n"
     ]
    }
   ],
   "source": [
    "# Run this code only if you add new galleries/addresses to extract lat and lon (takes about 1 minute)\n",
    "df = pd.read_excel(\"galleries.xlsx\", sheet_name=\"Manhattan\")\n",
    "\n",
    "# Initialize geolocator\n",
    "geolocator = Nominatim(user_agent=\"gallery_mapper\")\n",
    "\n",
    "# Function to get latitude and longitude\n",
    "def geocode_address(address):\n",
    "    try:\n",
    "        location = geolocator.geocode(address)\n",
    "        time.sleep(1)  # To avoid rate limiting\n",
    "        if location:\n",
    "            return pd.Series([location.latitude, location.longitude])\n",
    "    except:\n",
    "        return pd.Series([None, None])\n",
    "    return pd.Series([None, None])\n",
    "\n",
    "# Geocode addresses if coordinates not present\n",
    "df[['Latitude', 'Longitude']] = df['Address'].apply(geocode_address)\n",
    "\n",
    "# Drop rows with missing coordinates\n",
    "df.dropna(subset=['Latitude', 'Longitude'], inplace=True)\n",
    "\n",
    "# Create hover text\n",
    "df['HoverText'] = df.apply(\n",
    "    lambda row: f\"<b>{row['Gallery Name']}</b><br>{row['Address']}<br><a href='{row['Website']}'>{row['Website']}</a>\",\n",
    "    axis=1\n",
    ")\n",
    "\n",
    "df.to_excel(\"galleries_manhattan_lat_lon.xlsx\", index=False)\n",
    "\n"
   ]
  },
  {
   "cell_type": "markdown",
   "id": "49b37815",
   "metadata": {},
   "source": [
    "## Create the map"
   ]
  },
  {
   "cell_type": "code",
   "execution_count": 27,
   "id": "b7ec7448",
   "metadata": {},
   "outputs": [
    {
     "name": "stdout",
     "output_type": "stream",
     "text": [
      "             Gallery Name                            Address  \\\n",
      "125         Albertz Benda  515 W 26th St, New York, NY 10001   \n",
      "126  Simone Subal Gallery     131 Bowery, New York, NY 10002   \n",
      "\n",
      "           Email / Contact                   Website   Latitude  Longitude  \\\n",
      "125  info@albertzbenda.com  https://albertzbenda.com  40.750147 -74.003524   \n",
      "126   info@simonesubal.com   https://simonesubal.com  40.718550 -73.994448   \n",
      "\n",
      "                                             HoverText    Borough  \n",
      "125  <b>Albertz Benda</b><br>515 W 26th St, New Yor...  Manhattan  \n",
      "126  <b>Simone Subal Gallery</b><br>131 Bowery, New...  Manhattan  \n"
     ]
    }
   ],
   "source": [
    "# Read the Excel files with lat and lon\n",
    "df_queens = pd.read_excel(\"galleries_queens_lat_lon.xlsx\")\n",
    "df_bronx = pd.read_excel(\"galleries_bronx_lat_lon.xlsx\")\n",
    "df_brooklyn = pd.read_excel(\"galleries_brooklyn_lat_lon.xlsx\")\n",
    "df_manhattan = pd.read_excel(\"galleries_manhattan_lat_lon.xlsx\")\n",
    "\n",
    "# Add the 'Borough' column\n",
    "df_queens['Borough'] = 'Queens'\n",
    "df_bronx['Borough'] = 'Bronx'\n",
    "df_brooklyn['Borough'] = 'Brooklyn'\n",
    "df_manhattan['Borough'] = 'Manhattan'\n",
    "\n",
    "# Concatenate vertically\n",
    "df_combined = pd.concat([df_queens, df_bronx, df_brooklyn, df_manhattan], ignore_index=True)\n",
    "\n",
    "# Preview the result\n",
    "print(df_combined.tail(2))"
   ]
  },
  {
   "cell_type": "code",
   "execution_count": 28,
   "id": "30a50a61",
   "metadata": {},
   "outputs": [
    {
     "data": {
      "application/vnd.plotly.v1+json": {
       "config": {
        "plotlyServerURL": "https://plot.ly"
       },
       "data": [
        {
         "customdata": [
          [
           "<b>MoMA PS1</b><br>22-25 Jackson Ave, Long Island City, NY 11101<br><a href='https://www.momaps1.org'>https://www.momaps1.org</a>",
           40.7457177,
           -73.9459094
          ],
          [
           "<b>SculptureCenter</b><br>44-19 Purves St, Long Island City, NY 11101<br><a href='https://sculpture-center.org'>https://sculpture-center.org</a>",
           40.7469077,
           -73.9408643
          ],
          [
           "<b>Culture Lab LIC</b><br>5-25 46th Ave, Long Island City, NY 11101<br><a href='https://www.culturelablic.org'>https://www.culturelablic.org</a>",
           40.7475503,
           -73.9540859
          ],
          [
           "<b>Local Project</b><br>11-27 44th Rd, Long Island City, NY 11101<br><a href='https://localproject.org'>https://localproject.org</a>",
           40.749311,
           -73.9483195
          ],
          [
           "<b>Flux Factory</b><br>39-31 29th St, Long Island City, NY 11101<br><a href='https://fluxfactory.org'>https://fluxfactory.org</a>",
           40.7527012,
           -73.9350775
          ],
          [
           "<b>LIC Artists, Inc.</b><br>5-25 46th Ave, Long Island City, NY 11101<br><a href='https://licartists.org'>https://licartists.org</a>",
           40.7475503,
           -73.9540859
          ],
          [
           "<b>Diego Salazar Art Gallery</b><br>21-25 44th Ave, Long Island City, NY 11101<br><a href='https://www.diegosalazar.com'>https://www.diegosalazar.com</a>",
           40.7493982,
           -73.9456018
          ],
          [
           "<b>Topaz Arts</b><br>55-03 39th Ave, Woodside, NY 11377<br><a href='https://topazarts.org'>https://topazarts.org</a>",
           40.7487146,
           -73.9077046
          ],
          [
           "<b>Fuchs Projects</b><br>147-31 176th St, Jamaica, NY 11434<br><a href='http://fuchsprojects.com'>http://fuchsprojects.com</a>",
           40.7064265,
           -73.7841955
          ],
          [
           "<b>Sugarlift</b><br>36-01 36th Ave, Long Island City, NY 11106<br><a href='https://sugarlift.com'>https://sugarlift.com</a>",
           40.7580153,
           -73.9328046
          ],
          [
           "<b>Fisher Landau Center</b><br>38-27 30th St, Long Island City, NY 11101<br><a href='https://www.flcart.org'>https://www.flcart.org</a>",
           40.7534421,
           -73.9331062
          ],
          [
           "<b>The Noguchi Museum</b><br>9-01 33rd Rd, Long Island City, NY 11106<br><a href='https://noguchi.org'>https://noguchi.org</a>",
           40.7669901,
           -73.9376072
          ],
          [
           "<b>Resobox</b><br>41-26 27th St, Long Island City, NY 11101<br><a href='https://resobox.com'>https://resobox.com</a>",
           40.7512687,
           -73.9390234
          ],
          [
           "<b>The Factory LIC</b><br>30-30 47th Ave, Long Island City, NY 11101<br><a href='https://thefactorylic.com'>https://thefactorylic.com</a>",
           40.7422648,
           -73.9364321
          ],
          [
           "<b>Space 776</b><br>37-39 24th St, Long Island City, NY 11101<br><a href='https://space776.com'>https://space776.com</a>",
           40.755686,
           -73.937065
          ],
          [
           "<b>Art World</b><br>103-07 Metropolitan Ave, Forest Hills, NY 11375<br><a href='https://www.newyorkartworld.com'>https://www.newyorkartworld.com</a>",
           40.7104425,
           -73.8495302
          ],
          [
           "<b>Flushing Art Gallery</b><br>135-29 Roosevelt Ave, Flushing, NY 11354<br><a href='https://flushingartgallery.com'>https://flushingartgallery.com</a>",
           40.7594256,
           -73.8309401
          ],
          [
           "<b>Time Art Glass Center</b><br>42-05 162nd St, Flushing, NY 11358<br><a href='https://www.newtimeartglass.com'>https://www.newtimeartglass.com</a>",
           40.7599667,
           -73.8038496
          ],
          [
           "<b>Klughaus Gallery</b><br>37-20 56th St, Woodside, NY 11377<br><a href='https://klughaus.net'>https://klughaus.net</a>",
           40.7501743,
           -73.9065768
          ],
          [
           "<b>Jeffrey Leder Gallery</b><br>21-37 45th Rd, Long Island City, NY 11101<br><a href='https://jeffreyledergallery.com'>https://jeffreyledergallery.com</a>",
           40.7465543,
           -73.9463878
          ],
          [
           "<b>Greenpoint Gallery</b><br>390 McGuinness Blvd, Brooklyn, NY 11222<br><a href='https://thegreenpointgallery.com'>https://thegreenpointgallery.com</a>",
           40.7363545,
           -73.95243
          ],
          [
           "<b>Materials for the Arts</b><br>33-00 Northern Blvd, Long Island City, NY 11101<br><a href='https://www.nyc.gov/mfta'>https://www.nyc.gov/mfta</a>",
           40.7517129,
           -73.9314442
          ],
          [
           "<b>The Local NYC</b><br>13-02 44th Ave, Long Island City, NY 11101<br><a href='https://thelocalny.com'>https://thelocalny.com</a>",
           40.7495886,
           -73.9476285
          ],
          [
           "<b>Project 59 Gallery</b><br>59-09 37th Ave, Woodside, NY 11377<br><a href='https://project59.org'>https://project59.org</a>",
           40.7486174,
           -73.8956871
          ],
          [
           "<b>Art Strong NYC</b><br>43-67 11th St, Long Island City, NY 11101<br><a href='https://artstrongnyc.com'>https://artstrongnyc.com</a>",
           40.7500651,
           -73.9487807
          ],
          [
           "<b>The Art House Astoria</b><br>23-35 Broadway, Astoria, NY 11106<br><a href='https://arthouseastoria.org'>https://arthouseastoria.org</a>",
           40.7640977,
           -73.9288587
          ],
          [
           "<b>Astoria Art Space</b><br>34-01 38th Ave, Astoria, NY 11101<br><a href='https://www.astoriaart.com'>https://www.astoriaart.com</a>",
           40.7583891,
           -73.9416371
          ],
          [
           "<b>Sunnyside Arts</b><br>45-50 48th St, Sunnyside, NY 11104<br><a href='https://www.sunnysideartsnyc.com'>https://www.sunnysideartsnyc.com</a>",
           40.7414221,
           -73.9174355
          ],
          [
           "<b>Queens Council on the Arts</b><br>5-11 47th Ave, Long Island City, NY 11101<br><a href='https://www.nyc-arts.org/organizations/queens-council-on-the-arts/'>https://www.nyc-arts.org/organizations/queens-council-on-the-arts/</a>",
           40.7462442,
           -73.9551117
          ],
          [
           "<b>Jamaica Center for Arts & Learning</b><br>161-04 Jamaica Ave, Jamaica, NY 11432<br><a href='https://jcal.org'>https://jcal.org</a>",
           40.7039215,
           -73.7981728
          ],
          [
           "<b>King Manor Museum</b><br>150-03 Jamaica Ave, Jamaica, NY 11432<br><a href='https://kingmanor.org'>https://kingmanor.org</a>",
           40.7066283,
           -73.7916855
          ],
          [
           "<b>York College Fine Arts Gallery</b><br>94-20 Guy R Brewer Blvd, Jamaica, NY 11451<br><a href='https://www.york.cuny.edu'>https://www.york.cuny.edu</a>",
           40.7017659,
           -73.7963966
          ],
          [
           "<b>The Knockdown Center</b><br>52-19 Flushing Ave, Maspeth, NY 11378<br><a href='https://knockdown.center'>https://knockdown.center</a>",
           40.7152788,
           -73.9136706
          ],
          [
           "<b>QED Astoria</b><br>27-16 23rd Ave, Astoria, NY 11105<br><a href='https://qedastoria.com'>https://qedastoria.com</a>",
           40.775548,
           -73.9149401
          ],
          [
           "<b>Outpost Artists Resources</b><br>1665 Norman St, Ridgewood, NY 11385<br><a href='https://outpostartistsresources.org'>https://outpostartistsresources.org</a>",
           40.6967719,
           -73.9019654
          ],
          [
           "<b>The Chocolate Factory Theater</b><br>38-33 24th St, Long Island City, NY 11101<br><a href='https://chocolatefactorytheater.org'>https://chocolatefactorytheater.org</a>",
           40.7552015,
           -73.93734
          ],
          [
           "<b>The Secret Theatre</b><br>38-02 61st St, Woodside, NY 11377<br><a href='https://secrettheatre.com'>https://secrettheatre.com</a>",
           40.7476119,
           -73.9026391
          ],
          [
           "<b>The Astoria Bookshop</b><br>31-29 31st St, Astoria, NY 11106<br><a href='https://astoriabookshop.com'>https://astoriabookshop.com</a>",
           40.7637523,
           -73.9236953
          ],
          [
           "<b>The Gallery at Queens College</b><br>65-30 Kissena Blvd, Flushing, NY 11367<br><a href='https://www.qc.cuny.edu/academics/soa/queens-college-art-center/'>https://www.qc.cuny.edu/academics/soa/queens-college-art-center/</a>",
           40.7527158,
           -73.8213861
          ],
          [
           "<b>The Living Gallery</b><br>1094 Broadway, Brooklyn, NY 11221<br><a href='http://www.the-living-gallery.com'>http://www.the-living-gallery.com</a>",
           40.6941559,
           -73.9306465
          ],
          [
           "<b>The Art Center LIC</b><br>44-02 23rd St, Long Island City, NY 11101<br><a href='https://www.licartists.org'>https://www.licartists.org</a>",
           40.7489064,
           -73.9445697
          ],
          [
           "<b>The Drawing Room LIC</b><br>10-27 46th Ave, Long Island City, NY 11101<br><a href='https://drawingcenter.org'>https://drawingcenter.org</a>",
           40.7467794,
           -73.9516882
          ]
         ],
         "hovertemplate": "%{customdata[0]}",
         "hovertext": [
          "MoMA PS1",
          "SculptureCenter",
          "Culture Lab LIC",
          "Local Project",
          "Flux Factory",
          "LIC Artists, Inc.",
          "Diego Salazar Art Gallery",
          "Topaz Arts",
          "Fuchs Projects",
          "Sugarlift",
          "Fisher Landau Center",
          "The Noguchi Museum",
          "Resobox",
          "The Factory LIC",
          "Space 776",
          "Art World",
          "Flushing Art Gallery",
          "Time Art Glass Center",
          "Klughaus Gallery",
          "Jeffrey Leder Gallery",
          "Greenpoint Gallery",
          "Materials for the Arts",
          "The Local NYC",
          "Project 59 Gallery",
          "Art Strong NYC",
          "The Art House Astoria",
          "Astoria Art Space",
          "Sunnyside Arts",
          "Queens Council on the Arts",
          "Jamaica Center for Arts & Learning",
          "King Manor Museum",
          "York College Fine Arts Gallery",
          "The Knockdown Center",
          "QED Astoria",
          "Outpost Artists Resources",
          "The Chocolate Factory Theater",
          "The Secret Theatre",
          "The Astoria Bookshop",
          "The Gallery at Queens College",
          "The Living Gallery",
          "The Art Center LIC",
          "The Drawing Room LIC"
         ],
         "lat": {
          "bdata": "MMZ2rXNfREC3UOirml9EQLhObbqvX0RAO8Q/bOlfREB51E6DWGBEQLhObbqvX0RANFe8R+xfREDUhEjh1V9EQI1D/S5sWkRADq81pQZhRED8dm3KcGBEQIrtSbssYkRAFIGgkilgREBqfHCIAl9EQMQFoFG6YERAIJijx+9aREBi36nbNGFEQEdGvZZGYURAXGYitgVgREAWmF8Xj19EQJfhP91AXkRAnL3YIDhgREArOu2E8l9EQLgb6bHSX0RAfC8ZIgJgREBzORT0zWFEQEoS3+QSYURADQRc6+ZeREAz6hDuhF9EQMO5hhkaWkRAy3bPy3JaREBY+Qp301lEQNXCdkGOW0RANj0oKEVjREDKolXSL1lEQPAxWHGqYERA20wqv7FfREBVX6eiwmFEQFsXyP1YYERAqGm8GdpYREDv4Tcq3F9EQMsppneWX0RA",
          "dtype": "f8"
         },
         "legendgroup": "Queens",
         "lon": {
          "bdata": "qH6Ux4l8UsBVnuUeN3xSwMiETr4PfVLALqpFRLF8UsBubkxP2HtSwMiETr4PfVLAe4JpvYR8UsBx2wjVF3pSwOeKUkIwclLAvKMQErN7UsB4LBEDuHtSwKAfocEBfFLAcEua9Rh8UsAtG+eA7ntSwHtOet/4e1LAuH3qs152UsDXm2IfLnVSwMa5l0Vyc1LA/dOyWgV6UsBWlSKekXxSwK1u9Zz0fFLAIUMiyJx7UsB7EALypXxSwL58/O9SeVLA3WSv0rh8UsC6xsJrcntSwNFMQchDfFLAHyxjQ7d6UsC64dKMIH1SwKIjXkMVc1LA6s2o+apyUsBR6XEp+HJSwEWUQJR5elLAItPrYI56UsDoxxXNuXlSwORO6WD9e1LA0aXJ1sR5UsADPuTSHXtSwOU4AZeRdFLAwmhWto97UsC5knjUc3xSwE6/n3XofFLA",
          "dtype": "f8"
         },
         "marker": {
          "color": "#272827",
          "size": 8,
          "symbol": "circle"
         },
         "mode": "markers+text",
         "name": "Queens",
         "showlegend": true,
         "subplot": "map",
         "text": [
          "MoMA PS1",
          "SculptureCenter",
          "Culture Lab LIC",
          "Local Project",
          "Flux Factory",
          "LIC Artists, Inc.",
          "Diego Salazar Art Gallery",
          "Topaz Arts",
          "Fuchs Projects",
          "Sugarlift",
          "Fisher Landau Center",
          "The Noguchi Museum",
          "Resobox",
          "The Factory LIC",
          "Space 776",
          "Art World",
          "Flushing Art Gallery",
          "Time Art Glass Center",
          "Klughaus Gallery",
          "Jeffrey Leder Gallery",
          "Greenpoint Gallery",
          "Materials for the Arts",
          "The Local NYC",
          "Project 59 Gallery",
          "Art Strong NYC",
          "The Art House Astoria",
          "Astoria Art Space",
          "Sunnyside Arts",
          "Queens Council on the Arts",
          "Jamaica Center for Arts & Learning",
          "King Manor Museum",
          "York College Fine Arts Gallery",
          "The Knockdown Center",
          "QED Astoria",
          "Outpost Artists Resources",
          "The Chocolate Factory Theater",
          "The Secret Theatre",
          "The Astoria Bookshop",
          "The Gallery at Queens College",
          "The Living Gallery",
          "The Art Center LIC",
          "The Drawing Room LIC"
         ],
         "type": "scattermap"
        },
        {
         "customdata": [
          [
           "<b>The Bronx Museum of the Arts</b><br>1040 Grand Concourse, Bronx, NY 10456<br><a href='https://bronxmuseum.org'>https://bronxmuseum.org</a>",
           40.8310911,
           -73.9199471
          ],
          [
           "<b>Longwood Art Gallery</b><br>2700 East Tremont Ave, Bronx, NY 10461<br><a href='https://www.bronxarts.org/programs/connector/longwood-art-project/longwood-art-gallery'>https://www.bronxarts.org/programs/connector/longwood-art-project/longwood-art-gallery</a>",
           40.842574,
           -73.8459019
          ],
          [
           "<b>Wave Hill (Glyndor Gallery)</b><br>4900 Independence Ave, Bronx, NY 10471<br><a href='https://www.wavehill.org/discover/arts'>https://www.wavehill.org/discover/arts</a>",
           40.8986536,
           -73.9122584
          ],
          [
           "<b>WallWorks NY</b><br>39 Bruckner Blvd, Bronx, NY 10454<br><a href='https://www.wallworksny.com'>https://www.wallworksny.com</a>",
           40.8068853,
           -73.9272025
          ],
          [
           "<b>Bronx River Art Center</b><br>1087 E Tremont Ave, Bronx, NY 10460<br><a href='https://www.bronxriverart.org'>https://www.bronxriverart.org</a>",
           40.840061,
           -73.877698
          ],
          [
           "<b>Focal Point Gallery</b><br>321 City Island Ave, Bronx, NY 10464<br><a href='https://www.nyctourism.com/museums-galleries/focal-point-gallery-city-island/'>https://www.nyctourism.com/museums-galleries/focal-point-gallery-city-island/</a>",
           40.8475607,
           -73.7868597
          ],
          [
           "<b>Arts Horizons</b><br>1230 Zerega Ave, Bronx, NY 10462<br><a href='https://www.artshorizons.org'>https://www.artshorizons.org</a>",
           40.8336966,
           -73.8449513
          ],
          [
           "<b>Pelham Art Center</b><br>155 Fifth Ave, Pelham, NY 10803<br><a href='https://www.pelhamartcenter.org'>https://www.pelhamartcenter.org</a>",
           40.9139615,
           -73.80867
          ]
         ],
         "hovertemplate": "%{customdata[0]}",
         "hovertext": [
          "The Bronx Museum of the Arts",
          "Longwood Art Gallery",
          "Wave Hill (Glyndor Gallery)",
          "WallWorks NY",
          "Bronx River Art Center",
          "Focal Point Gallery",
          "Arts Horizons",
          "Pelham Art Center"
         ],
         "lat": {
          "bdata": "kz9zMWFqREDeOv922WtEQGI3xxQHc0RAw497BEhnRECR0mweh2tEQPzvd958bERAqeT3kbZqREDMJsCw/HREQA==",
          "dtype": "f8"
         },
         "legendgroup": "Bronx",
         "lon": {
          "bdata": "NCPNaeB6UsD0B7lBI3ZSwBVgDnFielLAP5EnSVd7UsDvcDs0LHhSwJWCyehbclLAnQ2erhN2UsBo0NA/wXNSwA==",
          "dtype": "f8"
         },
         "marker": {
          "color": "#ea2081",
          "size": 8,
          "symbol": "circle"
         },
         "mode": "markers+text",
         "name": "Bronx",
         "showlegend": true,
         "subplot": "map",
         "text": [
          "The Bronx Museum of the Arts",
          "Longwood Art Gallery",
          "Wave Hill (Glyndor Gallery)",
          "WallWorks NY",
          "Bronx River Art Center",
          "Focal Point Gallery",
          "Arts Horizons",
          "Pelham Art Center"
         ],
         "type": "scattermap"
        },
        {
         "customdata": [
          [
           "<b>Brooklyn Museum</b><br>200 Eastern Pkwy, Brooklyn, NY 11238<br><a href='https://www.brooklynmuseum.org'>https://www.brooklynmuseum.org</a>",
           40.6709108,
           -73.9633172
          ],
          [
           "<b>Pioneer Works</b><br>159 Pioneer St, Brooklyn, NY 11231<br><a href='https://pioneerworks.org'>https://pioneerworks.org</a>",
           40.679378,
           -74.011894
          ],
          [
           "<b>A.I.R. Gallery</b><br>155 Plymouth St, Brooklyn, NY 11201<br><a href='https://www.airgallery.org'>https://www.airgallery.org</a>",
           40.7038548,
           -73.9870406
          ],
          [
           "<b>Smack Mellon</b><br>92 Plymouth St, Brooklyn, NY 11201<br><a href='https://www.smackmellon.org'>https://www.smackmellon.org</a>",
           40.7039288,
           -73.9891523
          ],
          [
           "<b>The Invisible Dog Art Center</b><br>51 Bergen St, Brooklyn, NY 11201<br><a href='https://theinvisibledog.org'>https://theinvisibledog.org</a>",
           40.6871816,
           -73.991245
          ],
          [
           "<b>FiveMyles</b><br>558 St Johns Pl, Brooklyn, NY 11238<br><a href='https://www.fivemyles.org'>https://www.fivemyles.org</a>",
           40.6726551,
           -73.9595921
          ],
          [
           "<b>Richard Beavers Gallery</b><br>408 Marcus Garvey Blvd, Brooklyn, NY 11216<br><a href='https://www.richardbeaversgallery.com'>https://www.richardbeaversgallery.com</a>",
           40.6828744,
           -73.9382698
          ],
          [
           "<b>Thomas VanDyke Gallery</b><br>434 39th St, Brooklyn, NY 11232<br><a href='https://www.thomasvandyke.com'>https://www.thomasvandyke.com</a>",
           40.6519267,
           -74.0053024
          ],
          [
           "<b>Transmitter</b><br>1329 Willoughby Ave, Brooklyn, NY 11237<br><a href='https://www.transmitter.nyc'>https://www.transmitter.nyc</a>",
           40.7063004,
           -73.9211101
          ],
          [
           "<b>Ortega y Gasset Projects</b><br>363 3rd Ave, Brooklyn, NY 11215<br><a href='https://www.oygprojects.com'>https://www.oygprojects.com</a>",
           40.6745916,
           -73.9881576
          ],
          [
           "<b>Tappeto Volante Gallery</b><br>126 13th St, Brooklyn, NY 11215<br><a href='https://www.tappetovolante.org'>https://www.tappetovolante.org</a>",
           40.6693268,
           -73.9938805
          ],
          [
           "<b>Not Another Gallery!</b><br>17 Frost St, Brooklyn, NY 11211<br><a href='https://www.notanothergallery.com'>https://www.notanothergallery.com</a>",
           40.7176573,
           -73.951394
          ],
          [
           "<b>Naruki Art Dojo (NAD Gallery)</b><br>119 Ingraham St, Brooklyn, NY 11237<br><a href='https://www.narukiartdojo.com'>https://www.narukiartdojo.com</a>",
           40.7076309,
           -73.9291146
          ],
          [
           "<b>Amos Eno Gallery</b><br>56 Bogart St, Brooklyn, NY 11206<br><a href='https://www.amoseno.org'>https://www.amoseno.org</a>",
           40.705865,
           -73.9331729
          ],
          [
           "<b>Field of Play</b><br>56 Bogart St, Brooklyn, NY 11206<br><a href='https://www.fieldofplaybk.com'>https://www.fieldofplaybk.com</a>",
           40.705865,
           -73.9331729
          ],
          [
           "<b>Carvalho Park</b><br>110 Waterbury St, Brooklyn, NY 11206<br><a href='https://www.carvalhopark.com'>https://www.carvalhopark.com</a>",
           40.7113218,
           -73.9376297
          ],
          [
           "<b>CIBONE O'TE</b><br>50 Norman Ave, Brooklyn, NY 11222<br><a href='https://www.cibone.com'>https://www.cibone.com</a>",
           40.724907,
           -73.9530677
          ],
          [
           "<b>KAJE</b><br>41 Schermerhorn St, Brooklyn, NY 11201<br><a href='https://kaje.world/info'>https://kaje.world/info</a>",
           40.6912071,
           -73.9919864
          ],
          [
           "<b>A Space</b><br>56 Bogart St, Brooklyn, NY 11206<br><a href='https://www.aspacegallery.net'>https://www.aspacegallery.net</a>",
           40.705865,
           -73.9331729
          ],
          [
           "<b>David Craig Ellis Studio</b><br>17 Frost St, Brooklyn, NY 11211<br><a href='https://www.davidcraigellis.com'>https://www.davidcraigellis.com</a>",
           40.7176573,
           -73.951394
          ],
          [
           "<b>Trestle Gallery</b><br>850 3rd Ave, Brooklyn, NY 11232<br><a href='https://trestleartspace.org'>https://trestleartspace.org</a>",
           40.6593994,
           -74.0045436
          ],
          [
           "<b>SARDINE</b><br>286 Stanhope St, Brooklyn, NY 11237<br><a href='https://www.sardinebk.com'>https://www.sardinebk.com</a>",
           40.7021066,
           -73.9187747
          ],
          [
           "<b>Tiger Strikes Asteroid</b><br>1329 Willoughby Ave, Brooklyn, NY 11237<br><a href='https://www.tigerstrikesasteroid.com'>https://www.tigerstrikesasteroid.com</a>",
           40.7063004,
           -73.9211101
          ],
          [
           "<b>Microscope Gallery</b><br>525 W 29th St, Brooklyn, NY 11232<br><a href='https://www.microscopegallery.com'>https://www.microscopegallery.com</a>",
           40.6594426,
           -74.002333
          ],
          [
           "<b>UrbanGlass</b><br>647 Fulton St, Brooklyn, NY 11217<br><a href='https://www.urbanglass.org'>https://www.urbanglass.org</a>",
           40.6867981,
           -73.9758629
          ],
          [
           "<b>The Boiler (Pierogi)</b><br>191 N 14th St, Brooklyn, NY 11249<br><a href='https://www.pierogi2000.com'>https://www.pierogi2000.com</a>",
           40.7232353,
           -73.9558525
          ],
          [
           "<b>The Chimney</b><br>200 Morgan Ave, Brooklyn, NY 11237<br><a href='https://www.thechimneynyc.com'>https://www.thechimneynyc.com</a>",
           40.7109051,
           -73.9329503
          ],
          [
           "<b>The Java Project</b><br>252 Java St, Brooklyn, NY 11222<br><a href='https://www.thejavaproj.com'>https://www.thejavaproj.com</a>",
           40.7317531,
           -73.9499308
          ],
          [
           "<b>The Cluster Gallery</b><br>200 6th St, Brooklyn, NY 11215<br><a href='https://www.bklynartcluster.com/the-cluster-gallery'>https://www.bklynartcluster.com/the-cluster-gallery</a>",
           40.6734055,
           -73.9903277
          ],
          [
           "<b>The Bishop Gallery</b><br>916 Bedford Ave, Brooklyn, NY 11205<br><a href='https://www.thebishopgallery.com'>https://www.thebishopgallery.com</a>",
           40.6934225,
           -73.956021
          ],
          [
           "<b>The Shirley Project Space</b><br>609 Grand St, Brooklyn, NY 11211<br><a href='https://www.theshirleyprojectspace.com'>https://www.theshirleyprojectspace.com</a>",
           40.7114588,
           -73.9477896
          ],
          [
           "<b>The Gallery at Industry City</b><br>254 36th St, Brooklyn, NY 11232<br><a href='https://industrycity.com'>https://industrycity.com</a>",
           40.6560123,
           -74.0074139
          ],
          [
           "<b>The Living Gallery</b><br>1094 Broadway, Brooklyn, NY 11221<br><a href='http://www.the-living-gallery.com'>http://www.the-living-gallery.com</a>",
           40.6941559,
           -73.9306465
          ],
          [
           "<b>The Parlour Bushwick</b><br>791 Bushwick Ave, Brooklyn, NY 11221<br><a href='https://theparlourbushwick.com'>https://theparlourbushwick.com</a>",
           40.6954133,
           -73.9283138
          ],
          [
           "<b>Trestle Gallery</b><br>850 3rd Ave, Brooklyn, NY 11232<br><a href='https://trestleartspace.org'>https://trestleartspace.org</a>",
           40.6593994,
           -74.0045436
          ],
          [
           "<b>Undercurrent</b><br>70 John St, Brooklyn, NY 11201<br><a href='https://www.undercurrent.nyc'>https://www.undercurrent.nyc</a>",
           40.7045401,
           -73.9878487
          ],
          [
           "<b>UrbanGlass</b><br>647 Fulton St, Brooklyn, NY 11217<br><a href='https://www.urbanglass.org'>https://www.urbanglass.org</a>",
           40.6867981,
           -73.9758629
          ],
          [
           "<b>Usagi NY</b><br>163 Plymouth St, Brooklyn, NY 11201<br><a href='https://www.usaginy.com'>https://www.usaginy.com</a>",
           40.7038212,
           -73.9869091
          ],
          [
           "<b>VICTORI + MO</b><br>242 W 22nd St, Brooklyn, NY 11211<br><a href='https://www.victorimo.com'>https://www.victorimo.com</a>",
           40.6587969,
           -73.9906992
          ],
          [
           "<b>Wayfarers</b><br>1109 Dekalb Ave, Brooklyn, NY 11221<br><a href='https://www.brooklynwayfarers.org'>https://www.brooklynwayfarers.org</a>",
           40.693876,
           -73.9308031
          ],
          [
           "<b>Williamsburg Art & Historical Center</b><br>135 Broadway, Brooklyn, NY 11211<br><a href='https://www.wahcenter.net'>https://www.wahcenter.net</a>",
           40.7105067,
           -73.9636229
          ],
          [
           "<b>Zurcher Gallery</b><br>33 Bleecker St, Brooklyn, NY 11201<br><a href='https://www.galeriezurcher.com'>https://www.galeriezurcher.com</a>",
           40.6935581,
           -73.922963
          ]
         ],
         "hovertemplate": "%{customdata[0]}",
         "hovertext": [
          "Brooklyn Museum",
          "Pioneer Works",
          "A.I.R. Gallery",
          "Smack Mellon",
          "The Invisible Dog Art Center",
          "FiveMyles",
          "Richard Beavers Gallery",
          "Thomas VanDyke Gallery",
          "Transmitter",
          "Ortega y Gasset Projects",
          "Tappeto Volante Gallery",
          "Not Another Gallery!",
          "Naruki Art Dojo (NAD Gallery)",
          "Amos Eno Gallery",
          "Field of Play",
          "Carvalho Park",
          "CIBONE O'TE",
          "KAJE",
          "A Space",
          "David Craig Ellis Studio",
          "Trestle Gallery",
          "SARDINE",
          "Tiger Strikes Asteroid",
          "Microscope Gallery",
          "UrbanGlass",
          "The Boiler (Pierogi)",
          "The Chimney",
          "The Java Project",
          "The Cluster Gallery",
          "The Bishop Gallery",
          "The Shirley Project Space",
          "The Gallery at Industry City",
          "The Living Gallery",
          "The Parlour Bushwick",
          "Trestle Gallery",
          "Undercurrent",
          "UrbanGlass",
          "Usagi NY",
          "VICTORI + MO",
          "Wayfarers",
          "Williamsburg Art & Historical Center",
          "Zurcher Gallery"
         ],
         "lat": {
          "bdata": "QES0Z+BVRECaz7nb9VZEQPqQAeoXWkRANFvDVhpaREDcNBGR9VdEQGr+848ZVkRASKOnbWhXREDR8YdVclNEQGyTLw1oWkRAAhR+BFlWREANKyaArFVEQCqexDHcW0RAzJE6ppNaREAOMsnIWVpEQA4yychZWkRAR/e9lwxbREAc0qjAyVxEQKqhaHl5WERADjLJyFlaREAqnsQx3FtEQEIAFTNnVERAI6cKod5ZREBsky8NaFpEQGtLeJ1oVERAOzoJAOlXREAIaGz5klxEQKGHNfD+WkRAkZ/oFapdREAoucMmMlZEQMDnhxHCWERAyDn7FBFbREAKIwc2+FNEQKhpvBnaWERAClqSTQNZREBCABUzZ1REQDwcuF4uWkRAOzoJAOlXREChHSbQFlpEQGQa8nRTVERAWr3D7dBYREBhCzDi8VpEQB2wBoPGWERA",
          "dtype": "f8"
         },
         "legendgroup": "Brooklyn",
         "lon": {
          "bdata": "KGsv/aZ9UsAxQQ3fwoBSwMA0Vqwrf1LA2NByRU5/UsC1VN6OcH9SwP+/+/RpfVLAxHTGnAx8UsDIpeDfVoBSwPvgxnfzelLAztJf+T1/UsB16PS8m39SwBTnqKPjfFLAHU8VnXZ7UsDdwNMauXtSwN3A0xq5e1LAiFAAIAJ8UsDvl6oP/3xSwOqEhrR8f1LA3cDTGrl7UsAU56ij43xSwP5ZPXFKgFLAGjlmNM16UsD74MZ383pSwOasTzkmgFLATTiqiXR+UsAx0/avLH1SwMfSLHW1e1LApN2Nqst8UsCq9G6HYX9SwINStHIvfVLASt+1lah8UsBLgiZ4eYBSwMJoVraPe1LAO9tIfml7UsD+WT1xSoBSwFr5wOk4f1LATTiqiXR+UsD9J8mEKX9SwBgLnp1nf1LA/WAqR5J7UsBPS2L/q31SwMEaZ9MRe1LA",
          "dtype": "f8"
         },
         "marker": {
          "color": "#52bcff",
          "size": 8,
          "symbol": "circle"
         },
         "mode": "markers+text",
         "name": "Brooklyn",
         "showlegend": true,
         "subplot": "map",
         "text": [
          "Brooklyn Museum",
          "Pioneer Works",
          "A.I.R. Gallery",
          "Smack Mellon",
          "The Invisible Dog Art Center",
          "FiveMyles",
          "Richard Beavers Gallery",
          "Thomas VanDyke Gallery",
          "Transmitter",
          "Ortega y Gasset Projects",
          "Tappeto Volante Gallery",
          "Not Another Gallery!",
          "Naruki Art Dojo (NAD Gallery)",
          "Amos Eno Gallery",
          "Field of Play",
          "Carvalho Park",
          "CIBONE O'TE",
          "KAJE",
          "A Space",
          "David Craig Ellis Studio",
          "Trestle Gallery",
          "SARDINE",
          "Tiger Strikes Asteroid",
          "Microscope Gallery",
          "UrbanGlass",
          "The Boiler (Pierogi)",
          "The Chimney",
          "The Java Project",
          "The Cluster Gallery",
          "The Bishop Gallery",
          "The Shirley Project Space",
          "The Gallery at Industry City",
          "The Living Gallery",
          "The Parlour Bushwick",
          "Trestle Gallery",
          "Undercurrent",
          "UrbanGlass",
          "Usagi NY",
          "VICTORI + MO",
          "Wayfarers",
          "Williamsburg Art & Historical Center",
          "Zurcher Gallery"
         ],
         "type": "scattermap"
        },
        {
         "customdata": [
          [
           "<b>Hauser & Wirth</b><br>548 W 22nd St, New York, NY 10011<br><a href='https://hauserwirth.com'>https://hauserwirth.com</a>",
           40.7477595,
           -74.0070052
          ],
          [
           "<b>Sean Kelly Gallery</b><br>475 10th Ave, New York, NY 10018<br><a href='https://skny.com'>https://skny.com</a>",
           40.7561342,
           -73.9982421
          ],
          [
           "<b>Andrew Kreps Gallery</b><br>22 Cortlandt Alley, New York, NY 10013<br><a href='http://www.andrewkreps.com'>http://www.andrewkreps.com</a>",
           40.7181761,
           -74.0020133
          ],
          [
           "<b>Bortolami Gallery</b><br>39 Walker St, New York, NY 10013<br><a href='https://bortolamigallery.com'>https://bortolamigallery.com</a>",
           40.7189765,
           -74.0035115
          ],
          [
           "<b>James Cohan Gallery</b><br>48 Walker St, New York, NY 10013<br><a href='https://jamescohan.com'>https://jamescohan.com</a>",
           40.7191714,
           -74.0035276
          ],
          [
           "<b>Sikkema Jenkins & Co.</b><br>530 W 22nd St, New York, NY 10011<br><a href='https://sikkemajenkinsco.com'>https://sikkemajenkinsco.com</a>",
           40.7474851,
           -74.0060323
          ],
          [
           "<b>Lisson Gallery</b><br>504 W 24th St, New York, NY 10011<br><a href='https://lissongallery.com'>https://lissongallery.com</a>",
           40.7485172,
           -74.0043407
          ],
          [
           "<b>Yossi Milo Gallery</b><br>245 Tenth Ave, New York, NY 10001<br><a href='https://yossimilo.com'>https://yossimilo.com</a>",
           42.7252526,
           -73.7110577
          ],
          [
           "<b>Luhring Augustine</b><br>531 W 24th St, New York, NY 10011<br><a href='https://luhringaugustine.com'>https://luhringaugustine.com</a>",
           40.7491116,
           -74.0050793
          ],
          [
           "<b>David Kordansky Gallery</b><br>520 W 20th St, New York, NY 10011<br><a href='https://davidkordanskygallery.com'>https://davidkordanskygallery.com</a>",
           40.7462706,
           -74.0069444
          ],
          [
           "<b>Kasmin Gallery</b><br>509 W 27th St, New York, NY 10001<br><a href='https://kasmingallery.com'>https://kasmingallery.com</a>",
           40.750597,
           -74.0029311
          ],
          [
           "<b>Anton Kern Gallery</b><br>16 E 55th St, New York, NY 10022<br><a href='https://antonkerngallery.com'>https://antonkerngallery.com</a>",
           40.7610347,
           -73.9740042
          ],
          [
           "<b>Alexander Gray Associates</b><br>510 W 26th St, New York, NY 10001<br><a href='https://alexandergray.com'>https://alexandergray.com</a>",
           40.7497859,
           -74.0036422
          ],
          [
           "<b>Cheim & Read</b><br>23 E 67th St, New York, NY 10065<br><a href='https://cheimread.com'>https://cheimread.com</a>",
           40.7688568,
           -73.9678937
          ],
          [
           "<b>Marianne Boesky Gallery</b><br>507 W 24th St, New York, NY 10011<br><a href='https://marianneboeskygallery.com'>https://marianneboeskygallery.com</a>",
           40.7486851,
           -74.004134
          ],
          [
           "<b>Metro Pictures</b><br>519 W 24th St, New York, NY 10011<br><a href='https://metropictures.com'>https://metropictures.com</a>",
           40.748765,
           -74.0044359
          ],
          [
           "<b>Greene Naftali</b><br>508 W 26th St, New York, NY 10001<br><a href='https://greenenaftaligallery.com'>https://greenenaftaligallery.com</a>",
           40.7497571,
           -74.0037462
          ],
          [
           "<b>Mitchell-Innes & Nash</b><br>534 W 26th St, New York, NY 10001<br><a href='https://miandn.com'>https://miandn.com</a>",
           40.7501321,
           -74.0044964
          ],
          [
           "<b>Jack Hanley Gallery</b><br>327 Broome St, New York, NY 10002<br><a href='https://jackhanley.com'>https://jackhanley.com</a>",
           40.7190375,
           -73.9937937
          ],
          [
           "<b>Canada</b><br>60 Lispenard St, New York, NY 10013<br><a href='https://canadanewyork.com'>https://canadanewyork.com</a>",
           40.7194485,
           -74.0029007
          ],
          [
           "<b>Nicelle Beauchene Gallery</b><br>7 Franklin Pl, New York, NY 10013<br><a href='https://nicellebeauchene.com'>https://nicellebeauchene.com</a>",
           40.7178236,
           -74.0039574
          ],
          [
           "<b>PPOW Gallery</b><br>392 Broadway, New York, NY 10013<br><a href='https://ppowgallery.com'>https://ppowgallery.com</a>",
           40.7183485,
           -74.0025892
          ],
          [
           "<b>The Hole</b><br>312 Bowery, New York, NY 10012<br><a href='https://theholenyc.com'>https://theholenyc.com</a>",
           40.725091,
           -73.9926762
          ],
          [
           "<b>Rachel Uffner Gallery</b><br>170 Suffolk St, New York, NY 10002<br><a href='https://racheluffnergallery.com'>https://racheluffnergallery.com</a>",
           40.7208582,
           -73.9848396
          ],
          [
           "<b>Jeffrey Deitch Gallery</b><br>18 Wooster St, New York, NY 10013<br><a href='https://deitch.com'>https://deitch.com</a>",
           40.7214471,
           -74.0033026
          ],
          [
           "<b>Marlborough Gallery</b><br>545 W 25th St, New York, NY 10001<br><a href='https://marlboroughgallery.com'>https://marlboroughgallery.com</a>",
           40.7498665,
           -74.005004
          ],
          [
           "<b>Skarstedt Gallery</b><br>550 W 21st St, New York, NY 10011<br><a href='https://skarstedt.com'>https://skarstedt.com</a>",
           40.7471983,
           -74.0075215
          ],
          [
           "<b>Fergus McCaffrey</b><br>514 W 26th St, New York, NY 10001<br><a href='https://fergusmccaffrey.com'>https://fergusmccaffrey.com</a>",
           40.7498115,
           -74.0037006
          ],
          [
           "<b>Venus Over Manhattan</b><br>55 Great Jones St, New York, NY 10012<br><a href='https://venusovermanhattan.com'>https://venusovermanhattan.com</a>",
           40.7264282,
           -73.9924629
          ],
          [
           "<b>David Nolan Gallery</b><br>24 E 81st St, New York, NY 10028<br><a href='https://davidnolangallery.com'>https://davidnolangallery.com</a>",
           40.7776249,
           -73.9616653
          ],
          [
           "<b>Bodega</b><br>167 Rivington St, New York, NY 10002<br><a href='https://bodega-us.org'>https://bodega-us.org</a>",
           40.718908,
           -73.9849204
          ],
          [
           "<b>Lyles & King</b><br>21 Catherine St, New York, NY 10038<br><a href='https://lylesandking.com'>https://lylesandking.com</a>",
           40.7129943,
           -73.9969541
          ],
          [
           "<b>Fort Gansevoort</b><br>5 Ninth Ave, New York, NY 10014<br><a href='https://fortgansevoort.com'>https://fortgansevoort.com</a>",
           40.9157613,
           -73.8036096
          ],
          [
           "<b>Albertz Benda</b><br>515 W 26th St, New York, NY 10001<br><a href='https://albertzbenda.com'>https://albertzbenda.com</a>",
           40.7501466,
           -74.0035239
          ],
          [
           "<b>Simone Subal Gallery</b><br>131 Bowery, New York, NY 10002<br><a href='https://simonesubal.com'>https://simonesubal.com</a>",
           40.71855,
           -73.9944478
          ]
         ],
         "hovertemplate": "%{customdata[0]}",
         "hovertext": [
          "Hauser & Wirth",
          "Sean Kelly Gallery",
          "Andrew Kreps Gallery",
          "Bortolami Gallery",
          "James Cohan Gallery",
          "Sikkema Jenkins & Co.",
          "Lisson Gallery",
          "Yossi Milo Gallery",
          "Luhring Augustine",
          "David Kordansky Gallery",
          "Kasmin Gallery",
          "Anton Kern Gallery",
          "Alexander Gray Associates",
          "Cheim & Read",
          "Marianne Boesky Gallery",
          "Metro Pictures",
          "Greene Naftali",
          "Mitchell-Innes & Nash",
          "Jack Hanley Gallery",
          "Canada",
          "Nicelle Beauchene Gallery",
          "PPOW Gallery",
          "The Hole",
          "Rachel Uffner Gallery",
          "Jeffrey Deitch Gallery",
          "Marlborough Gallery",
          "Skarstedt Gallery",
          "Fergus McCaffrey",
          "Venus Over Manhattan",
          "David Nolan Gallery",
          "Bodega",
          "Lyles & King",
          "Fort Gansevoort",
          "Albertz Benda",
          "Simone Subal Gallery"
         ],
         "lat": {
          "bdata": "/OJSlbZfRECNMWYByWBEQGkixzHtW0RA2AsFbAdcRED5m/XODVxEQKdffZetX0RAKz9fac9fREBjK8MT1VxFQPGGj+PiX0RAsHuGy4VfREDkvP+PE2BEQIPPxZVpYURAP8D/+/hfREBTp03maWJEQFLA0enUX0RA2bERiNdfREDOOGgK+F9EQASXIlQEYERAfoy5awlcREAAVHHjFlxEQAQmy6ThW0RAuVD51/JbREDdzynIz1xEQNcG3RRFXERAoyXqYFhcREDZ7h6g+19EQDsQozGkX0RAFVW/0vlfREAy8miZ+1xEQBMHdTaJY0RAmGpmLQVcREABXrBlQ1tEQKI4kao3dURAURrFzQRgREA5RUdy+VtEQA==",
          "dtype": "f8"
         },
         "legendgroup": "Manhattan",
         "lon": {
          "bdata": "uTnwxXKAUsBiP9Uy439SwA1qZPwggFLAPGpMiDmAUsCJqNPLOYBSwA/OTNVigFLArCI3HkeAUsBqxCf4gW1SwL7YIDhTgFLA+7jsxnGAUsALqewFMIBSwKpKthVWflLArHh+rDuAUsBJ4Gr48X1SwE6zQLtDgFLAaluDrUiAUsD+nrNgPYBSwMi8RKtJgFLAIh7kUJp/UsCs6GqGL4BSwPHkidZAgFLAqVTkayqAUsAgocEBiH9SwJFzrJwHf1LAeb8bHDaAUsBZFkz8UYBSwBQhdTt7gFLAcP5woTyAUsCTfxyDhH9SwK1MneyLfVLAcsqS7wh/UsA9x5EYzn9SwBuw9VZuc1LASNBOvDmAUsARpWIIpX9SwA==",
          "dtype": "f8"
         },
         "marker": {
          "color": "#EEA705",
          "size": 8,
          "symbol": "circle"
         },
         "mode": "markers+text",
         "name": "Manhattan",
         "showlegend": true,
         "subplot": "map",
         "text": [
          "Hauser & Wirth",
          "Sean Kelly Gallery",
          "Andrew Kreps Gallery",
          "Bortolami Gallery",
          "James Cohan Gallery",
          "Sikkema Jenkins & Co.",
          "Lisson Gallery",
          "Yossi Milo Gallery",
          "Luhring Augustine",
          "David Kordansky Gallery",
          "Kasmin Gallery",
          "Anton Kern Gallery",
          "Alexander Gray Associates",
          "Cheim & Read",
          "Marianne Boesky Gallery",
          "Metro Pictures",
          "Greene Naftali",
          "Mitchell-Innes & Nash",
          "Jack Hanley Gallery",
          "Canada",
          "Nicelle Beauchene Gallery",
          "PPOW Gallery",
          "The Hole",
          "Rachel Uffner Gallery",
          "Jeffrey Deitch Gallery",
          "Marlborough Gallery",
          "Skarstedt Gallery",
          "Fergus McCaffrey",
          "Venus Over Manhattan",
          "David Nolan Gallery",
          "Bodega",
          "Lyles & King",
          "Fort Gansevoort",
          "Albertz Benda",
          "Simone Subal Gallery"
         ],
         "type": "scattermap"
        }
       ],
       "layout": {
        "height": 800,
        "hoverlabel": {
         "bgcolor": "#f0f0f0",
         "font": {
          "color": "#272827"
         }
        },
        "legend": {
         "title": {
          "text": "Borough"
         },
         "tracegroupgap": 0
        },
        "map": {
         "center": {
          "lat": 40.74912082047244,
          "lon": -73.94519340629921
         },
         "domain": {
          "x": [
           0,
           1
          ],
          "y": [
           0,
           1
          ]
         },
         "zoom": 10
        },
        "mapbox": {
         "center": {
          "lat": 40.74912082047244,
          "lon": -73.94519340629921
         },
         "style": "open-street-map",
         "zoom": 10
        },
        "margin": {
         "b": 0,
         "l": 0,
         "r": 0,
         "t": 40
        },
        "template": {
         "data": {
          "bar": [
           {
            "error_x": {
             "color": "#2a3f5f"
            },
            "error_y": {
             "color": "#2a3f5f"
            },
            "marker": {
             "line": {
              "color": "#E5ECF6",
              "width": 0.5
             },
             "pattern": {
              "fillmode": "overlay",
              "size": 10,
              "solidity": 0.2
             }
            },
            "type": "bar"
           }
          ],
          "barpolar": [
           {
            "marker": {
             "line": {
              "color": "#E5ECF6",
              "width": 0.5
             },
             "pattern": {
              "fillmode": "overlay",
              "size": 10,
              "solidity": 0.2
             }
            },
            "type": "barpolar"
           }
          ],
          "carpet": [
           {
            "aaxis": {
             "endlinecolor": "#2a3f5f",
             "gridcolor": "white",
             "linecolor": "white",
             "minorgridcolor": "white",
             "startlinecolor": "#2a3f5f"
            },
            "baxis": {
             "endlinecolor": "#2a3f5f",
             "gridcolor": "white",
             "linecolor": "white",
             "minorgridcolor": "white",
             "startlinecolor": "#2a3f5f"
            },
            "type": "carpet"
           }
          ],
          "choropleth": [
           {
            "colorbar": {
             "outlinewidth": 0,
             "ticks": ""
            },
            "type": "choropleth"
           }
          ],
          "contour": [
           {
            "colorbar": {
             "outlinewidth": 0,
             "ticks": ""
            },
            "colorscale": [
             [
              0,
              "#0d0887"
             ],
             [
              0.1111111111111111,
              "#46039f"
             ],
             [
              0.2222222222222222,
              "#7201a8"
             ],
             [
              0.3333333333333333,
              "#9c179e"
             ],
             [
              0.4444444444444444,
              "#bd3786"
             ],
             [
              0.5555555555555556,
              "#d8576b"
             ],
             [
              0.6666666666666666,
              "#ed7953"
             ],
             [
              0.7777777777777778,
              "#fb9f3a"
             ],
             [
              0.8888888888888888,
              "#fdca26"
             ],
             [
              1,
              "#f0f921"
             ]
            ],
            "type": "contour"
           }
          ],
          "contourcarpet": [
           {
            "colorbar": {
             "outlinewidth": 0,
             "ticks": ""
            },
            "type": "contourcarpet"
           }
          ],
          "heatmap": [
           {
            "colorbar": {
             "outlinewidth": 0,
             "ticks": ""
            },
            "colorscale": [
             [
              0,
              "#0d0887"
             ],
             [
              0.1111111111111111,
              "#46039f"
             ],
             [
              0.2222222222222222,
              "#7201a8"
             ],
             [
              0.3333333333333333,
              "#9c179e"
             ],
             [
              0.4444444444444444,
              "#bd3786"
             ],
             [
              0.5555555555555556,
              "#d8576b"
             ],
             [
              0.6666666666666666,
              "#ed7953"
             ],
             [
              0.7777777777777778,
              "#fb9f3a"
             ],
             [
              0.8888888888888888,
              "#fdca26"
             ],
             [
              1,
              "#f0f921"
             ]
            ],
            "type": "heatmap"
           }
          ],
          "histogram": [
           {
            "marker": {
             "pattern": {
              "fillmode": "overlay",
              "size": 10,
              "solidity": 0.2
             }
            },
            "type": "histogram"
           }
          ],
          "histogram2d": [
           {
            "colorbar": {
             "outlinewidth": 0,
             "ticks": ""
            },
            "colorscale": [
             [
              0,
              "#0d0887"
             ],
             [
              0.1111111111111111,
              "#46039f"
             ],
             [
              0.2222222222222222,
              "#7201a8"
             ],
             [
              0.3333333333333333,
              "#9c179e"
             ],
             [
              0.4444444444444444,
              "#bd3786"
             ],
             [
              0.5555555555555556,
              "#d8576b"
             ],
             [
              0.6666666666666666,
              "#ed7953"
             ],
             [
              0.7777777777777778,
              "#fb9f3a"
             ],
             [
              0.8888888888888888,
              "#fdca26"
             ],
             [
              1,
              "#f0f921"
             ]
            ],
            "type": "histogram2d"
           }
          ],
          "histogram2dcontour": [
           {
            "colorbar": {
             "outlinewidth": 0,
             "ticks": ""
            },
            "colorscale": [
             [
              0,
              "#0d0887"
             ],
             [
              0.1111111111111111,
              "#46039f"
             ],
             [
              0.2222222222222222,
              "#7201a8"
             ],
             [
              0.3333333333333333,
              "#9c179e"
             ],
             [
              0.4444444444444444,
              "#bd3786"
             ],
             [
              0.5555555555555556,
              "#d8576b"
             ],
             [
              0.6666666666666666,
              "#ed7953"
             ],
             [
              0.7777777777777778,
              "#fb9f3a"
             ],
             [
              0.8888888888888888,
              "#fdca26"
             ],
             [
              1,
              "#f0f921"
             ]
            ],
            "type": "histogram2dcontour"
           }
          ],
          "mesh3d": [
           {
            "colorbar": {
             "outlinewidth": 0,
             "ticks": ""
            },
            "type": "mesh3d"
           }
          ],
          "parcoords": [
           {
            "line": {
             "colorbar": {
              "outlinewidth": 0,
              "ticks": ""
             }
            },
            "type": "parcoords"
           }
          ],
          "pie": [
           {
            "automargin": true,
            "type": "pie"
           }
          ],
          "scatter": [
           {
            "fillpattern": {
             "fillmode": "overlay",
             "size": 10,
             "solidity": 0.2
            },
            "type": "scatter"
           }
          ],
          "scatter3d": [
           {
            "line": {
             "colorbar": {
              "outlinewidth": 0,
              "ticks": ""
             }
            },
            "marker": {
             "colorbar": {
              "outlinewidth": 0,
              "ticks": ""
             }
            },
            "type": "scatter3d"
           }
          ],
          "scattercarpet": [
           {
            "marker": {
             "colorbar": {
              "outlinewidth": 0,
              "ticks": ""
             }
            },
            "type": "scattercarpet"
           }
          ],
          "scattergeo": [
           {
            "marker": {
             "colorbar": {
              "outlinewidth": 0,
              "ticks": ""
             }
            },
            "type": "scattergeo"
           }
          ],
          "scattergl": [
           {
            "marker": {
             "colorbar": {
              "outlinewidth": 0,
              "ticks": ""
             }
            },
            "type": "scattergl"
           }
          ],
          "scattermap": [
           {
            "marker": {
             "colorbar": {
              "outlinewidth": 0,
              "ticks": ""
             }
            },
            "type": "scattermap"
           }
          ],
          "scattermapbox": [
           {
            "marker": {
             "colorbar": {
              "outlinewidth": 0,
              "ticks": ""
             }
            },
            "type": "scattermapbox"
           }
          ],
          "scatterpolar": [
           {
            "marker": {
             "colorbar": {
              "outlinewidth": 0,
              "ticks": ""
             }
            },
            "type": "scatterpolar"
           }
          ],
          "scatterpolargl": [
           {
            "marker": {
             "colorbar": {
              "outlinewidth": 0,
              "ticks": ""
             }
            },
            "type": "scatterpolargl"
           }
          ],
          "scatterternary": [
           {
            "marker": {
             "colorbar": {
              "outlinewidth": 0,
              "ticks": ""
             }
            },
            "type": "scatterternary"
           }
          ],
          "surface": [
           {
            "colorbar": {
             "outlinewidth": 0,
             "ticks": ""
            },
            "colorscale": [
             [
              0,
              "#0d0887"
             ],
             [
              0.1111111111111111,
              "#46039f"
             ],
             [
              0.2222222222222222,
              "#7201a8"
             ],
             [
              0.3333333333333333,
              "#9c179e"
             ],
             [
              0.4444444444444444,
              "#bd3786"
             ],
             [
              0.5555555555555556,
              "#d8576b"
             ],
             [
              0.6666666666666666,
              "#ed7953"
             ],
             [
              0.7777777777777778,
              "#fb9f3a"
             ],
             [
              0.8888888888888888,
              "#fdca26"
             ],
             [
              1,
              "#f0f921"
             ]
            ],
            "type": "surface"
           }
          ],
          "table": [
           {
            "cells": {
             "fill": {
              "color": "#EBF0F8"
             },
             "line": {
              "color": "white"
             }
            },
            "header": {
             "fill": {
              "color": "#C8D4E3"
             },
             "line": {
              "color": "white"
             }
            },
            "type": "table"
           }
          ]
         },
         "layout": {
          "annotationdefaults": {
           "arrowcolor": "#2a3f5f",
           "arrowhead": 0,
           "arrowwidth": 1
          },
          "autotypenumbers": "strict",
          "coloraxis": {
           "colorbar": {
            "outlinewidth": 0,
            "ticks": ""
           }
          },
          "colorscale": {
           "diverging": [
            [
             0,
             "#8e0152"
            ],
            [
             0.1,
             "#c51b7d"
            ],
            [
             0.2,
             "#de77ae"
            ],
            [
             0.3,
             "#f1b6da"
            ],
            [
             0.4,
             "#fde0ef"
            ],
            [
             0.5,
             "#f7f7f7"
            ],
            [
             0.6,
             "#e6f5d0"
            ],
            [
             0.7,
             "#b8e186"
            ],
            [
             0.8,
             "#7fbc41"
            ],
            [
             0.9,
             "#4d9221"
            ],
            [
             1,
             "#276419"
            ]
           ],
           "sequential": [
            [
             0,
             "#0d0887"
            ],
            [
             0.1111111111111111,
             "#46039f"
            ],
            [
             0.2222222222222222,
             "#7201a8"
            ],
            [
             0.3333333333333333,
             "#9c179e"
            ],
            [
             0.4444444444444444,
             "#bd3786"
            ],
            [
             0.5555555555555556,
             "#d8576b"
            ],
            [
             0.6666666666666666,
             "#ed7953"
            ],
            [
             0.7777777777777778,
             "#fb9f3a"
            ],
            [
             0.8888888888888888,
             "#fdca26"
            ],
            [
             1,
             "#f0f921"
            ]
           ],
           "sequentialminus": [
            [
             0,
             "#0d0887"
            ],
            [
             0.1111111111111111,
             "#46039f"
            ],
            [
             0.2222222222222222,
             "#7201a8"
            ],
            [
             0.3333333333333333,
             "#9c179e"
            ],
            [
             0.4444444444444444,
             "#bd3786"
            ],
            [
             0.5555555555555556,
             "#d8576b"
            ],
            [
             0.6666666666666666,
             "#ed7953"
            ],
            [
             0.7777777777777778,
             "#fb9f3a"
            ],
            [
             0.8888888888888888,
             "#fdca26"
            ],
            [
             1,
             "#f0f921"
            ]
           ]
          },
          "colorway": [
           "#636efa",
           "#EF553B",
           "#00cc96",
           "#ab63fa",
           "#FFA15A",
           "#19d3f3",
           "#FF6692",
           "#B6E880",
           "#FF97FF",
           "#FECB52"
          ],
          "font": {
           "color": "#2a3f5f"
          },
          "geo": {
           "bgcolor": "white",
           "lakecolor": "white",
           "landcolor": "#E5ECF6",
           "showlakes": true,
           "showland": true,
           "subunitcolor": "white"
          },
          "hoverlabel": {
           "align": "left"
          },
          "hovermode": "closest",
          "mapbox": {
           "style": "light"
          },
          "paper_bgcolor": "white",
          "plot_bgcolor": "#E5ECF6",
          "polar": {
           "angularaxis": {
            "gridcolor": "white",
            "linecolor": "white",
            "ticks": ""
           },
           "bgcolor": "#E5ECF6",
           "radialaxis": {
            "gridcolor": "white",
            "linecolor": "white",
            "ticks": ""
           }
          },
          "scene": {
           "xaxis": {
            "backgroundcolor": "#E5ECF6",
            "gridcolor": "white",
            "gridwidth": 2,
            "linecolor": "white",
            "showbackground": true,
            "ticks": "",
            "zerolinecolor": "white"
           },
           "yaxis": {
            "backgroundcolor": "#E5ECF6",
            "gridcolor": "white",
            "gridwidth": 2,
            "linecolor": "white",
            "showbackground": true,
            "ticks": "",
            "zerolinecolor": "white"
           },
           "zaxis": {
            "backgroundcolor": "#E5ECF6",
            "gridcolor": "white",
            "gridwidth": 2,
            "linecolor": "white",
            "showbackground": true,
            "ticks": "",
            "zerolinecolor": "white"
           }
          },
          "shapedefaults": {
           "line": {
            "color": "#2a3f5f"
           }
          },
          "ternary": {
           "aaxis": {
            "gridcolor": "white",
            "linecolor": "white",
            "ticks": ""
           },
           "baxis": {
            "gridcolor": "white",
            "linecolor": "white",
            "ticks": ""
           },
           "bgcolor": "#E5ECF6",
           "caxis": {
            "gridcolor": "white",
            "linecolor": "white",
            "ticks": ""
           }
          },
          "title": {
           "x": 0.05
          },
          "xaxis": {
           "automargin": true,
           "gridcolor": "white",
           "linecolor": "white",
           "ticks": "",
           "title": {
            "standoff": 15
           },
           "zerolinecolor": "white",
           "zerolinewidth": 2
          },
          "yaxis": {
           "automargin": true,
           "gridcolor": "white",
           "linecolor": "white",
           "ticks": "",
           "title": {
            "standoff": 15
           },
           "zerolinecolor": "white",
           "zerolinewidth": 2
          }
         }
        },
        "title": {
         "text": "Art Galleries New York City"
        }
       }
      }
     },
     "metadata": {},
     "output_type": "display_data"
    }
   ],
   "source": [
    "fig = px.scatter_map(\n",
    "    df_combined,\n",
    "    lat=\"Latitude\",\n",
    "    lon=\"Longitude\",\n",
    "    hover_name=\"Gallery Name\",\n",
    "    hover_data={\"Latitude\": False, \"Longitude\": False, \"HoverText\": True},\n",
    "    text=\"Gallery Name\",\n",
    "    custom_data=[\"HoverText\"],\n",
    "    color=\"Borough\",  # Use the Borough column for color\n",
    "    color_discrete_map={\n",
    "        \"Queens\": \"#272827\",\n",
    "        \"Bronx\": \"#ea2081\",\n",
    "        \"Brooklyn\": \"#52bcff\",\n",
    "        \"Manhattan\": \"#EEA705\"\n",
    "    },\n",
    "    zoom=10,\n",
    "    height=800\n",
    ")\n",
    "\n",
    "fig.update_traces(\n",
    "    marker=dict(size=8, symbol=\"circle\"),\n",
    "    hovertemplate=\"%{customdata[0]}\"\n",
    ")\n",
    "\n",
    "fig.update_layout(\n",
    "    mapbox_style=\"open-street-map\",\n",
    "    title=\"Art Galleries New York City\",\n",
    "    margin={\"r\":0,\"t\":40,\"l\":0,\"b\":0},\n",
    "    hoverlabel=dict(\n",
    "        bgcolor=\"#f0f0f0\", \n",
    "        font=dict(color=\"#272827\")\n",
    "    )\n",
    ")\n",
    "\n",
    "fig.write_html(\"galleries_map.html\")\n",
    "fig.show()\n"
   ]
  },
  {
   "cell_type": "code",
   "execution_count": null,
   "id": "a52df86a",
   "metadata": {},
   "outputs": [
    {
     "name": "stdout",
     "output_type": "stream",
     "text": [
      "Collecting geopy\n",
      "  Downloading geopy-2.4.1-py3-none-any.whl.metadata (6.8 kB)\n",
      "Collecting geographiclib<3,>=1.52 (from geopy)\n",
      "  Downloading geographiclib-2.0-py3-none-any.whl.metadata (1.4 kB)\n",
      "Downloading geopy-2.4.1-py3-none-any.whl (125 kB)\n",
      "Downloading geographiclib-2.0-py3-none-any.whl (40 kB)\n",
      "Installing collected packages: geographiclib, geopy\n",
      "\u001b[2K   \u001b[90m━━━━━━━━━━━━━━━━━━━━━━━━━━━━━━━━━━━━━━━━\u001b[0m \u001b[32m2/2\u001b[0m [geopy]\n",
      "\u001b[1A\u001b[2KSuccessfully installed geographiclib-2.0 geopy-2.4.1\n",
      "Note: you may need to restart the kernel to use updated packages.\n"
     ]
    }
   ],
   "source": []
  },
  {
   "cell_type": "code",
   "execution_count": null,
   "id": "8f081be6",
   "metadata": {},
   "outputs": [],
   "source": []
  }
 ],
 "metadata": {
  "kernelspec": {
   "display_name": "agents",
   "language": "python",
   "name": "python3"
  },
  "language_info": {
   "codemirror_mode": {
    "name": "ipython",
    "version": 3
   },
   "file_extension": ".py",
   "mimetype": "text/x-python",
   "name": "python",
   "nbconvert_exporter": "python",
   "pygments_lexer": "ipython3",
   "version": "3.12.9"
  }
 },
 "nbformat": 4,
 "nbformat_minor": 5
}
